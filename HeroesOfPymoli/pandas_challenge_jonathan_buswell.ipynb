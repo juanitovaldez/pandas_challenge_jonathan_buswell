{
 "cells": [
  {
   "cell_type": "code",
   "execution_count": 1,
   "metadata": {},
   "outputs": [],
   "source": [
    "# ms-python.python added\n",
    "import os\n",
    "try:\n",
    "\tos.chdir(os.path.join(os.getcwd(),\n",
    "                       r'Homework\\\\homework_04\\pandas_challange\\Instructions\\HeroesOfPymoli'))\n",
    "\tprint(os.getcwd())\n",
    "except:\n",
    "\tpass"
   ]
  },
  {
   "cell_type": "code",
   "execution_count": 2,
   "metadata": {},
   "outputs": [],
   "source": [
    "from IPython import get_ipython"
   ]
  },
  {
   "cell_type": "code",
   "execution_count": 3,
   "metadata": {},
   "outputs": [
    {
     "data": {
      "text/html": [
       "<div>\n",
       "<style scoped>\n",
       "    .dataframe tbody tr th:only-of-type {\n",
       "        vertical-align: middle;\n",
       "    }\n",
       "\n",
       "    .dataframe tbody tr th {\n",
       "        vertical-align: top;\n",
       "    }\n",
       "\n",
       "    .dataframe thead th {\n",
       "        text-align: right;\n",
       "    }\n",
       "</style>\n",
       "<table border=\"1\" class=\"dataframe\">\n",
       "  <thead>\n",
       "    <tr style=\"text-align: right;\">\n",
       "      <th></th>\n",
       "      <th>Purchase ID</th>\n",
       "      <th>SN</th>\n",
       "      <th>Age</th>\n",
       "      <th>Gender</th>\n",
       "      <th>Item ID</th>\n",
       "      <th>Item Name</th>\n",
       "      <th>Price</th>\n",
       "    </tr>\n",
       "  </thead>\n",
       "  <tbody>\n",
       "    <tr>\n",
       "      <td>0</td>\n",
       "      <td>0</td>\n",
       "      <td>Lisim78</td>\n",
       "      <td>20</td>\n",
       "      <td>Male</td>\n",
       "      <td>108</td>\n",
       "      <td>Extraction, Quickblade Of Trembling Hands</td>\n",
       "      <td>3.53</td>\n",
       "    </tr>\n",
       "    <tr>\n",
       "      <td>1</td>\n",
       "      <td>1</td>\n",
       "      <td>Lisovynya38</td>\n",
       "      <td>40</td>\n",
       "      <td>Male</td>\n",
       "      <td>143</td>\n",
       "      <td>Frenzied Scimitar</td>\n",
       "      <td>1.56</td>\n",
       "    </tr>\n",
       "    <tr>\n",
       "      <td>2</td>\n",
       "      <td>2</td>\n",
       "      <td>Ithergue48</td>\n",
       "      <td>24</td>\n",
       "      <td>Male</td>\n",
       "      <td>92</td>\n",
       "      <td>Final Critic</td>\n",
       "      <td>4.88</td>\n",
       "    </tr>\n",
       "    <tr>\n",
       "      <td>3</td>\n",
       "      <td>3</td>\n",
       "      <td>Chamassasya86</td>\n",
       "      <td>24</td>\n",
       "      <td>Male</td>\n",
       "      <td>100</td>\n",
       "      <td>Blindscythe</td>\n",
       "      <td>3.27</td>\n",
       "    </tr>\n",
       "    <tr>\n",
       "      <td>4</td>\n",
       "      <td>4</td>\n",
       "      <td>Iskosia90</td>\n",
       "      <td>23</td>\n",
       "      <td>Male</td>\n",
       "      <td>131</td>\n",
       "      <td>Fury</td>\n",
       "      <td>1.44</td>\n",
       "    </tr>\n",
       "  </tbody>\n",
       "</table>\n",
       "</div>"
      ],
      "text/plain": [
       "   Purchase ID             SN  Age Gender  Item ID  \\\n",
       "0            0        Lisim78   20   Male      108   \n",
       "1            1    Lisovynya38   40   Male      143   \n",
       "2            2     Ithergue48   24   Male       92   \n",
       "3            3  Chamassasya86   24   Male      100   \n",
       "4            4      Iskosia90   23   Male      131   \n",
       "\n",
       "                                   Item Name  Price  \n",
       "0  Extraction, Quickblade Of Trembling Hands   3.53  \n",
       "1                          Frenzied Scimitar   1.56  \n",
       "2                               Final Critic   4.88  \n",
       "3                                Blindscythe   3.27  \n",
       "4                                       Fury   1.44  "
      ]
     },
     "execution_count": 3,
     "metadata": {},
     "output_type": "execute_result"
    }
   ],
   "source": [
    "# Dependencies and Setup\n",
    "import pandas as pd\n",
    "import matplotlib.pyplot as plt\n",
    "import seaborn as sns\n",
    "import numpy as np\n",
    "from collections import Counter\n",
    "get_ipython().run_line_magic('matplotlib', 'notebook')\n",
    "# File to Load (Remember to Change These)\n",
    "file_to_load = \"Resources/purchase_data.csv\"\n",
    "# Read Purchasing File and store into Pandas data frame\n",
    "md_df = pd.read_csv(file_to_load)\n",
    "md_df.head()\n"
   ]
  },
  {
   "cell_type": "code",
   "execution_count": 4,
   "metadata": {},
   "outputs": [
    {
     "name": "stdout",
     "output_type": "stream",
     "text": [
      "Total Players: 576\n"
     ]
    }
   ],
   "source": [
    "total_players = len(md_df['SN'].unique())\n",
    "print(f'Total Players: {total_players}')"
   ]
  },
  {
   "cell_type": "code",
   "execution_count": 5,
   "metadata": {},
   "outputs": [
    {
     "name": "stdout",
     "output_type": "stream",
     "text": [
      "False\n"
     ]
    },
    {
     "data": {
      "text/html": [
       "<div>\n",
       "<style scoped>\n",
       "    .dataframe tbody tr th:only-of-type {\n",
       "        vertical-align: middle;\n",
       "    }\n",
       "\n",
       "    .dataframe tbody tr th {\n",
       "        vertical-align: top;\n",
       "    }\n",
       "\n",
       "    .dataframe thead th {\n",
       "        text-align: right;\n",
       "    }\n",
       "</style>\n",
       "<table border=\"1\" class=\"dataframe\">\n",
       "  <thead>\n",
       "    <tr style=\"text-align: right;\">\n",
       "      <th></th>\n",
       "      <th>Item Name</th>\n",
       "      <th>Purchase ID</th>\n",
       "      <th>SN</th>\n",
       "      <th>Age</th>\n",
       "      <th>Gender</th>\n",
       "      <th>Item ID</th>\n",
       "      <th>Price</th>\n",
       "    </tr>\n",
       "  </thead>\n",
       "  <tbody>\n",
       "    <tr>\n",
       "      <td>28</td>\n",
       "      <td>Crucifer</td>\n",
       "      <td>[121, 251, 454, 697]</td>\n",
       "      <td>[Ilosia37, Iasur80, Lassimla92, Tyaelistidru84]</td>\n",
       "      <td>[23, 22, 25, 19]</td>\n",
       "      <td>[Male, Female]</td>\n",
       "      <td>[1, 23]</td>\n",
       "      <td>[3.26, 1.99]</td>\n",
       "    </tr>\n",
       "    <tr>\n",
       "      <td>56</td>\n",
       "      <td>Final Critic</td>\n",
       "      <td>[2, 99, 252, 273, 277, 411, 536, 712, 722, 767...</td>\n",
       "      <td>[Ithergue48, Haisrisuir60, Tyaelo67, Phyali88,...</td>\n",
       "      <td>[24, 23, 39, 15, 10, 20, 25, 22, 8, 38, 11, 7]</td>\n",
       "      <td>[Male, Female]</td>\n",
       "      <td>[92, 101]</td>\n",
       "      <td>[4.88, 4.19]</td>\n",
       "    </tr>\n",
       "    <tr>\n",
       "      <td>98</td>\n",
       "      <td>Persuasion</td>\n",
       "      <td>[24, 98, 261, 538, 587, 590, 603, 608, 651]</td>\n",
       "      <td>[Siala43, Chadossa89, Tyeosri53, Chanadar44, A...</td>\n",
       "      <td>[30, 23, 24, 25, 22, 20]</td>\n",
       "      <td>[Male, Female]</td>\n",
       "      <td>[141, 132]</td>\n",
       "      <td>[3.19, 3.33]</td>\n",
       "    </tr>\n",
       "    <tr>\n",
       "      <td>137</td>\n",
       "      <td>Stormcaller</td>\n",
       "      <td>[166, 468, 751]</td>\n",
       "      <td>[Sondim68, Aesur96, Lisjaskan36]</td>\n",
       "      <td>[22, 23, 11]</td>\n",
       "      <td>[Female, Male]</td>\n",
       "      <td>[30, 180]</td>\n",
       "      <td>[2.21, 3.36]</td>\n",
       "    </tr>\n",
       "  </tbody>\n",
       "</table>\n",
       "</div>"
      ],
      "text/plain": [
       "        Item Name                                        Purchase ID  \\\n",
       "28       Crucifer                               [121, 251, 454, 697]   \n",
       "56   Final Critic  [2, 99, 252, 273, 277, 411, 536, 712, 722, 767...   \n",
       "98     Persuasion        [24, 98, 261, 538, 587, 590, 603, 608, 651]   \n",
       "137   Stormcaller                                    [166, 468, 751]   \n",
       "\n",
       "                                                    SN  \\\n",
       "28     [Ilosia37, Iasur80, Lassimla92, Tyaelistidru84]   \n",
       "56   [Ithergue48, Haisrisuir60, Tyaelo67, Phyali88,...   \n",
       "98   [Siala43, Chadossa89, Tyeosri53, Chanadar44, A...   \n",
       "137                   [Sondim68, Aesur96, Lisjaskan36]   \n",
       "\n",
       "                                                Age          Gender  \\\n",
       "28                                 [23, 22, 25, 19]  [Male, Female]   \n",
       "56   [24, 23, 39, 15, 10, 20, 25, 22, 8, 38, 11, 7]  [Male, Female]   \n",
       "98                         [30, 23, 24, 25, 22, 20]  [Male, Female]   \n",
       "137                                    [22, 23, 11]  [Female, Male]   \n",
       "\n",
       "        Item ID         Price  \n",
       "28      [1, 23]  [3.26, 1.99]  \n",
       "56    [92, 101]  [4.88, 4.19]  \n",
       "98   [141, 132]  [3.19, 3.33]  \n",
       "137   [30, 180]  [2.21, 3.36]  "
      ]
     },
     "execution_count": 5,
     "metadata": {},
     "output_type": "execute_result"
    }
   ],
   "source": [
    "# \n",
    "Do Item ID's and Item Names have a 1:1 map?\n",
    "print(len(md_df['Item ID'].unique()) == len(md_df['Item Name'].unique()))\n",
    "## We find that some unique items have more than one Item ID\n",
    "## These are not mere duplicates the prices have changed with the new ID's\n",
    "# Perhaps we have found evidence of a sale or promotional pricing\n",
    "md_df['Item ID'] = md_df['Item ID'].apply(str)\n",
    "# This little bit collects all instances of unique values in each column per Item Name\n",
    "# It provides a \"history\" of each item\n",
    "df = md_df.groupby('Item Name').agg(lambda x: x.unique().tolist()).reset_index()\n",
    "df[df['Item ID'].str.len() > 1]\n",
    "## This may be a usefull form for analysis later"
   ]
  },
  {
   "cell_type": "markdown",
   "metadata": {},
   "source": [
    "# Purchase summary"
   ]
  },
  {
   "cell_type": "code",
   "execution_count": 6,
   "metadata": {},
   "outputs": [
    {
     "data": {
      "text/html": [
       "<div>\n",
       "<style scoped>\n",
       "    .dataframe tbody tr th:only-of-type {\n",
       "        vertical-align: middle;\n",
       "    }\n",
       "\n",
       "    .dataframe tbody tr th {\n",
       "        vertical-align: top;\n",
       "    }\n",
       "\n",
       "    .dataframe thead th {\n",
       "        text-align: right;\n",
       "    }\n",
       "</style>\n",
       "<table border=\"1\" class=\"dataframe\">\n",
       "  <thead>\n",
       "    <tr style=\"text-align: right;\">\n",
       "      <th></th>\n",
       "      <th>Unique Items</th>\n",
       "      <th>Average Price</th>\n",
       "      <th>Total Purchases</th>\n",
       "      <th>Total Sales</th>\n",
       "    </tr>\n",
       "  </thead>\n",
       "  <tbody>\n",
       "    <tr>\n",
       "      <td>0</td>\n",
       "      <td>179</td>\n",
       "      <td>$3.05</td>\n",
       "      <td>780</td>\n",
       "      <td>$2,379.77</td>\n",
       "    </tr>\n",
       "  </tbody>\n",
       "</table>\n",
       "</div>"
      ],
      "text/plain": [
       "   Unique Items Average Price  Total Purchases Total Sales\n",
       "0           179         $3.05              780   $2,379.77"
      ]
     },
     "execution_count": 6,
     "metadata": {},
     "output_type": "execute_result"
    }
   ],
   "source": [
    "purch_cols = ['Item Name', 'Price']\n",
    "def purchase_summary(dataframe, cols):\n",
    "\tui_count = len(dataframe[cols[0]].unique())\n",
    "\tavg_price = dataframe[cols[1]].mean()\n",
    "\tsales_count = len(dataframe[cols[1]])\n",
    "\ttotal_sales = dataframe[cols[1]].sum()\n",
    "\tsummary = {'Unique Items': ui_count,\n",
    "\t\t\t   'Average Price': avg_price,\n",
    "\t\t\t   'Total Purchases': sales_count,\n",
    "\t\t\t   'Total Sales': total_sales}\n",
    "\tsummary_df = pd.DataFrame(summary, index=[0])\n",
    "\tsummary_df['Average Price'] =  summary_df['Average Price'].map('${:,.2f}'.format)\n",
    "\tsummary_df['Total Sales'] =  summary_df['Total Sales'].map('${:,.2f}'.format)\n",
    "\treturn summary_df\n",
    "purchase_summary(md_df, purch_cols)\n"
   ]
  },
  {
   "cell_type": "markdown",
   "metadata": {},
   "source": [
    "# Gender Demographics\n",
    " This method is agnostic with regards to number unique genders reported"
   ]
  },
  {
   "cell_type": "code",
   "execution_count": 7,
   "metadata": {},
   "outputs": [
    {
     "data": {
      "text/html": [
       "<div>\n",
       "<style scoped>\n",
       "    .dataframe tbody tr th:only-of-type {\n",
       "        vertical-align: middle;\n",
       "    }\n",
       "\n",
       "    .dataframe tbody tr th {\n",
       "        vertical-align: top;\n",
       "    }\n",
       "\n",
       "    .dataframe thead th {\n",
       "        text-align: right;\n",
       "    }\n",
       "</style>\n",
       "<table border=\"1\" class=\"dataframe\">\n",
       "  <thead>\n",
       "    <tr style=\"text-align: right;\">\n",
       "      <th></th>\n",
       "      <th>Male</th>\n",
       "      <th>Female</th>\n",
       "      <th>Other / Non-Disclosed</th>\n",
       "    </tr>\n",
       "  </thead>\n",
       "  <tbody>\n",
       "    <tr>\n",
       "      <td>0</td>\n",
       "      <td>484</td>\n",
       "      <td>81</td>\n",
       "      <td>11</td>\n",
       "    </tr>\n",
       "    <tr>\n",
       "      <td>1</td>\n",
       "      <td>84.03%</td>\n",
       "      <td>14.06%</td>\n",
       "      <td>1.91%</td>\n",
       "    </tr>\n",
       "  </tbody>\n",
       "</table>\n",
       "</div>"
      ],
      "text/plain": [
       "     Male  Female Other / Non-Disclosed\n",
       "0     484      81                    11\n",
       "1  84.03%  14.06%                 1.91%"
      ]
     },
     "execution_count": 7,
     "metadata": {},
     "output_type": "execute_result"
    }
   ],
   "source": [
    "demographics = md_df.groupby(['SN', 'Gender']).agg(lambda x: x.unique().tolist()).reset_index()\n",
    "gen_cols = 'Gender'\n",
    "def demo_summary(dataframe, cols):\n",
    "\t\n",
    "\tdemo_df = dataframe[cols]\n",
    "\tgen_tally = Counter(demo_df)\n",
    "\tdemo_summary = pd.DataFrame(gen_tally, index=[0])\n",
    "\tdemo_summary = demo_summary\n",
    "\tdemo_percentage = demo_summary.div(demo_summary.sum(axis=1), axis=0).applymap('{:,.2%}'.format)\n",
    "\tdemo_summary = pd.concat([demo_summary, demo_percentage], ignore_index=True)\n",
    "\treturn demo_summary\n",
    "\n",
    "summary_df = demo_summary(demographics, gen_cols)\n",
    "summary_df\n"
   ]
  },
  {
   "cell_type": "markdown",
   "metadata": {},
   "source": [
    " ## Purchasing Analysis (Gender)"
   ]
  },
  {
   "cell_type": "code",
   "execution_count": 8,
   "metadata": {},
   "outputs": [
    {
     "data": {
      "text/html": [
       "<div>\n",
       "<style scoped>\n",
       "    .dataframe tbody tr th:only-of-type {\n",
       "        vertical-align: middle;\n",
       "    }\n",
       "\n",
       "    .dataframe tbody tr th {\n",
       "        vertical-align: top;\n",
       "    }\n",
       "\n",
       "    .dataframe thead th {\n",
       "        text-align: right;\n",
       "    }\n",
       "</style>\n",
       "<table border=\"1\" class=\"dataframe\">\n",
       "  <thead>\n",
       "    <tr style=\"text-align: right;\">\n",
       "      <th></th>\n",
       "      <th>Avg Price</th>\n",
       "      <th>Purchase Count</th>\n",
       "      <th>Total Sales</th>\n",
       "      <th>Per Person Per Gender</th>\n",
       "    </tr>\n",
       "    <tr>\n",
       "      <th>Gender</th>\n",
       "      <th></th>\n",
       "      <th></th>\n",
       "      <th></th>\n",
       "      <th></th>\n",
       "    </tr>\n",
       "  </thead>\n",
       "  <tbody>\n",
       "    <tr>\n",
       "      <td>Female</td>\n",
       "      <td>$3.20</td>\n",
       "      <td>113</td>\n",
       "      <td>361.94</td>\n",
       "      <td>$4.47</td>\n",
       "    </tr>\n",
       "    <tr>\n",
       "      <td>Male</td>\n",
       "      <td>$3.02</td>\n",
       "      <td>652</td>\n",
       "      <td>1967.64</td>\n",
       "      <td>$4.07</td>\n",
       "    </tr>\n",
       "    <tr>\n",
       "      <td>Other / Non-Disclosed</td>\n",
       "      <td>$3.35</td>\n",
       "      <td>15</td>\n",
       "      <td>50.19</td>\n",
       "      <td>$4.56</td>\n",
       "    </tr>\n",
       "  </tbody>\n",
       "</table>\n",
       "</div>"
      ],
      "text/plain": [
       "                      Avg Price  Purchase Count  Total Sales  \\\n",
       "Gender                                                         \n",
       "Female                    $3.20             113       361.94   \n",
       "Male                      $3.02             652      1967.64   \n",
       "Other / Non-Disclosed     $3.35              15        50.19   \n",
       "\n",
       "                      Per Person Per Gender  \n",
       "Gender                                       \n",
       "Female                                $4.47  \n",
       "Male                                  $4.07  \n",
       "Other / Non-Disclosed                 $4.56  "
      ]
     },
     "execution_count": 8,
     "metadata": {},
     "output_type": "execute_result"
    }
   ],
   "source": [
    "pag_cols = ['Gender', 'Price']\n",
    "calc_cols = ['Avg Price', 'Purchase Count', 'Total Sales']\n",
    "# Here's where i started having a difficult time trying to implement this the way i wanted.\n",
    "# I had a realization that at least for right now jupyter notebooks are for rapid prototyping \n",
    "# and swift data exploration. IE check out the seaborn stuff I read up on in a book later on in the notebook.\n",
    "def gp_summary(dataframe, sort_cols, stat_cols):\n",
    "\t#summary_df = demo_summary(dataframe, 'Gender')\n",
    "\tgp_df = dataframe[sort_cols].groupby(sort_cols[0]).mean().applymap('${:,.2f}'.format)\n",
    "\tgp_df.rename(columns = {'Price':'Avg Price'}, inplace = True)\n",
    "\tgp_df['Purchase Count'] = dataframe[sort_cols].groupby('Gender').count()\n",
    "\tgp_df['Total Sales'] = dataframe[sort_cols].groupby('Gender').sum()\n",
    "\t#For some reason the line below doesn't calculate what it's supposed too or doesn't store what it's supposed to. I'm not sure which.\n",
    "\t#gp_df['Per Person Per Gender'] = (gp_df['Total Sales']/summary_df.iloc[0])\n",
    "\treturn gp_df\n",
    "# It turns out i was feeding it the wrong value. Give it Unique Names and it behaves correctly\n",
    "gap_summary = gp_summary(md_df, pag_cols, calc_cols)\n",
    "gap_summary['Per Person Per Gender'] = gap_summary['Total Sales'].astype('float')/summary_df.iloc[0].astype('float')\n",
    "gap_summary['Per Person Per Gender'] = gap_summary['Per Person Per Gender'].map('${:,.2f}'.format)\n",
    "gap_summary\n",
    "# After spending alot of time modularizing this I realized that at this level\n",
    "# Notebooks are purpose built for prototyping and not meant to be generic.\n",
    "#From here on out I went direct."
   ]
  },
  {
   "cell_type": "code",
   "execution_count": 23,
   "metadata": {},
   "outputs": [
    {
     "name": "stdout",
     "output_type": "stream",
     "text": [
      "[[0.8358974358974359, 0.14487179487179488, 0.019230769230769232], [0.8306587837837838, 0.14822635135135134, 0.021114864864864864]]\n"
     ]
    }
   ],
   "source": [
    "sold = [1967,351,50]\n",
    "t_sold = sum(sold)\n",
    "soldper = [i/t_sold for i in sold]\n",
    "t_pop = 780\n",
    "pop = [652,113,15]\n",
    "perpop = [i/t_pop for i in pop]\n",
    "\n",
    "print([perpop,soldper])"
   ]
  },
  {
   "cell_type": "markdown",
   "metadata": {},
   "source": [
    " ## Purchasing Analysis (Age)"
   ]
  },
  {
   "cell_type": "code",
   "execution_count": 9,
   "metadata": {},
   "outputs": [],
   "source": [
    "# These bins took some fiddling\n",
    "bins = [0, 9, 14, 19, 24, 29, 34, 39, 50]\n",
    "#If you don't want to type out intervals\n",
    "labels = [f'{i+1} - {i+5}' for i in bins] \n",
    "labels[0] = '<10'\n",
    "labels[-1] = '40+'\n",
    "del labels[-2]\n",
    "#print(len(bins))\n",
    "#print(len(labels))\n",
    "#print(labels)\n"
   ]
  },
  {
   "cell_type": "code",
   "execution_count": 10,
   "metadata": {
    "scrolled": true
   },
   "outputs": [
    {
     "data": {
      "text/html": [
       "<div>\n",
       "<style scoped>\n",
       "    .dataframe tbody tr th:only-of-type {\n",
       "        vertical-align: middle;\n",
       "    }\n",
       "\n",
       "    .dataframe tbody tr th {\n",
       "        vertical-align: top;\n",
       "    }\n",
       "\n",
       "    .dataframe thead th {\n",
       "        text-align: right;\n",
       "    }\n",
       "</style>\n",
       "<table border=\"1\" class=\"dataframe\">\n",
       "  <thead>\n",
       "    <tr style=\"text-align: right;\">\n",
       "      <th></th>\n",
       "      <th>Total Count</th>\n",
       "      <th>Percentage</th>\n",
       "    </tr>\n",
       "  </thead>\n",
       "  <tbody>\n",
       "    <tr>\n",
       "      <td>20 - 24</td>\n",
       "      <td>258</td>\n",
       "      <td>44.79%</td>\n",
       "    </tr>\n",
       "    <tr>\n",
       "      <td>15 - 19</td>\n",
       "      <td>107</td>\n",
       "      <td>18.58%</td>\n",
       "    </tr>\n",
       "    <tr>\n",
       "      <td>25 - 29</td>\n",
       "      <td>77</td>\n",
       "      <td>13.37%</td>\n",
       "    </tr>\n",
       "    <tr>\n",
       "      <td>30 - 34</td>\n",
       "      <td>52</td>\n",
       "      <td>9.03%</td>\n",
       "    </tr>\n",
       "    <tr>\n",
       "      <td>35 - 39</td>\n",
       "      <td>31</td>\n",
       "      <td>5.38%</td>\n",
       "    </tr>\n",
       "    <tr>\n",
       "      <td>10 - 14</td>\n",
       "      <td>22</td>\n",
       "      <td>3.82%</td>\n",
       "    </tr>\n",
       "    <tr>\n",
       "      <td>&lt;10</td>\n",
       "      <td>17</td>\n",
       "      <td>2.95%</td>\n",
       "    </tr>\n",
       "    <tr>\n",
       "      <td>40+</td>\n",
       "      <td>12</td>\n",
       "      <td>2.08%</td>\n",
       "    </tr>\n",
       "  </tbody>\n",
       "</table>\n",
       "</div>"
      ],
      "text/plain": [
       "         Total Count Percentage\n",
       "20 - 24          258     44.79%\n",
       "15 - 19          107     18.58%\n",
       "25 - 29           77     13.37%\n",
       "30 - 34           52      9.03%\n",
       "35 - 39           31      5.38%\n",
       "10 - 14           22      3.82%\n",
       "<10               17      2.95%\n",
       "40+               12      2.08%"
      ]
     },
     "execution_count": 10,
     "metadata": {},
     "output_type": "execute_result"
    }
   ],
   "source": [
    "# * Categorize the existing players using the age bins. Hint: use pd.cut()\n",
    "md_df['Age Group'] = pd.cut(md_df['Age'], bins=bins, labels=labels,include_lowest=True)\n",
    "md_df.tail()\n",
    "age_df = md_df[['SN', 'Age Group']].groupby('SN').first()\n",
    "#age_sum = pd.DataFrame(age_df, index=[1])\n",
    "age_tally = age_df['Age Group'].value_counts()\n",
    "age_per = age_tally.div(age_tally.sum(), axis=0).map('{:,.2%}'.format)\n",
    "\n",
    "age_summary = pd.DataFrame({'Total Count': age_tally,\n",
    "\t\t\t\t\t\t\t'Percentage': age_per})\n",
    "age_summary \n"
   ]
  },
  {
   "cell_type": "code",
   "execution_count": 11,
   "metadata": {},
   "outputs": [
    {
     "data": {
      "text/plain": [
       "20 - 24    258\n",
       "15 - 19    107\n",
       "25 - 29     77\n",
       "30 - 34     52\n",
       "35 - 39     31\n",
       "10 - 14     22\n",
       "<10         17\n",
       "40+         12\n",
       "Name: Total Count, dtype: int64"
      ]
     },
     "execution_count": 11,
     "metadata": {},
     "output_type": "execute_result"
    }
   ],
   "source": [
    "age_summary['Total Count']"
   ]
  },
  {
   "cell_type": "markdown",
   "metadata": {},
   "source": [
    " ## Purchasing Analysis (Age)"
   ]
  },
  {
   "cell_type": "markdown",
   "metadata": {},
   "source": [
    " * Bin the purchase_data data frame by age"
   ]
  },
  {
   "cell_type": "code",
   "execution_count": 26,
   "metadata": {},
   "outputs": [
    {
     "data": {
      "text/html": [
       "<div>\n",
       "<style scoped>\n",
       "    .dataframe tbody tr th:only-of-type {\n",
       "        vertical-align: middle;\n",
       "    }\n",
       "\n",
       "    .dataframe tbody tr th {\n",
       "        vertical-align: top;\n",
       "    }\n",
       "\n",
       "    .dataframe thead th {\n",
       "        text-align: right;\n",
       "    }\n",
       "</style>\n",
       "<table border=\"1\" class=\"dataframe\">\n",
       "  <thead>\n",
       "    <tr style=\"text-align: right;\">\n",
       "      <th></th>\n",
       "      <th>Total Purchases</th>\n",
       "      <th>Avg Purchase</th>\n",
       "      <th>Total Sales</th>\n",
       "      <th>Sales by Group Per Person</th>\n",
       "    </tr>\n",
       "    <tr>\n",
       "      <th>Age Group</th>\n",
       "      <th></th>\n",
       "      <th></th>\n",
       "      <th></th>\n",
       "      <th></th>\n",
       "    </tr>\n",
       "  </thead>\n",
       "  <tbody>\n",
       "    <tr>\n",
       "      <td>&lt;10</td>\n",
       "      <td>23</td>\n",
       "      <td>3.353478</td>\n",
       "      <td>77.13</td>\n",
       "      <td>4.537059</td>\n",
       "    </tr>\n",
       "    <tr>\n",
       "      <td>10 - 14</td>\n",
       "      <td>28</td>\n",
       "      <td>2.956429</td>\n",
       "      <td>82.78</td>\n",
       "      <td>3.762727</td>\n",
       "    </tr>\n",
       "    <tr>\n",
       "      <td>15 - 19</td>\n",
       "      <td>136</td>\n",
       "      <td>3.035956</td>\n",
       "      <td>412.89</td>\n",
       "      <td>3.858785</td>\n",
       "    </tr>\n",
       "    <tr>\n",
       "      <td>20 - 24</td>\n",
       "      <td>365</td>\n",
       "      <td>3.052219</td>\n",
       "      <td>1114.06</td>\n",
       "      <td>4.318062</td>\n",
       "    </tr>\n",
       "    <tr>\n",
       "      <td>25 - 29</td>\n",
       "      <td>101</td>\n",
       "      <td>2.900990</td>\n",
       "      <td>293.00</td>\n",
       "      <td>3.805195</td>\n",
       "    </tr>\n",
       "    <tr>\n",
       "      <td>30 - 34</td>\n",
       "      <td>73</td>\n",
       "      <td>2.931507</td>\n",
       "      <td>214.00</td>\n",
       "      <td>4.115385</td>\n",
       "    </tr>\n",
       "    <tr>\n",
       "      <td>35 - 39</td>\n",
       "      <td>41</td>\n",
       "      <td>3.601707</td>\n",
       "      <td>147.67</td>\n",
       "      <td>4.763548</td>\n",
       "    </tr>\n",
       "    <tr>\n",
       "      <td>40+</td>\n",
       "      <td>13</td>\n",
       "      <td>2.941538</td>\n",
       "      <td>38.24</td>\n",
       "      <td>3.186667</td>\n",
       "    </tr>\n",
       "  </tbody>\n",
       "</table>\n",
       "</div>"
      ],
      "text/plain": [
       "           Total Purchases  Avg Purchase  Total Sales  \\\n",
       "Age Group                                               \n",
       "<10                     23      3.353478        77.13   \n",
       "10 - 14                 28      2.956429        82.78   \n",
       "15 - 19                136      3.035956       412.89   \n",
       "20 - 24                365      3.052219      1114.06   \n",
       "25 - 29                101      2.900990       293.00   \n",
       "30 - 34                 73      2.931507       214.00   \n",
       "35 - 39                 41      3.601707       147.67   \n",
       "40+                     13      2.941538        38.24   \n",
       "\n",
       "           Sales by Group Per Person  \n",
       "Age Group                             \n",
       "<10                         4.537059  \n",
       "10 - 14                     3.762727  \n",
       "15 - 19                     3.858785  \n",
       "20 - 24                     4.318062  \n",
       "25 - 29                     3.805195  \n",
       "30 - 34                     4.115385  \n",
       "35 - 39                     4.763548  \n",
       "40+                         3.186667  "
      ]
     },
     "execution_count": 26,
     "metadata": {},
     "output_type": "execute_result"
    }
   ],
   "source": [
    "pba_df = md_df[['Age Group', 'Price']].groupby('Age Group').count()\n",
    "pba_df['Avg Purchase'] = md_df[['Age Group', 'Price']].groupby('Age Group').mean()\n",
    "pba_df['Total Sales'] = md_df[['Age Group', 'Price']].groupby('Age Group').sum()\n",
    "pba_df['Sales by Group Per Person'] = pba_df['Total Sales']/age_summary['Total Count']\n",
    "pba_df[['Avg Purchase', 'Total Sales', 'Sales by Group Per Person']]= pba_df[['Avg Purchase', 'Total Sales', 'Sales by Group Per Person']]\n",
    "pba_df.rename(columns={'Price': 'Total Purchases'}, inplace=True)\n",
    "pba_df\n",
    "#.applymap('${:,.2f}'.format)"
   ]
  },
  {
   "cell_type": "markdown",
   "metadata": {},
   "source": [
    "### pba_df.plot.bar(y='Total Purchases')"
   ]
  },
  {
   "cell_type": "markdown",
   "metadata": {},
   "source": [
    "# Top Spenders"
   ]
  },
  {
   "cell_type": "code",
   "execution_count": 15,
   "metadata": {},
   "outputs": [
    {
     "data": {
      "text/html": [
       "<div>\n",
       "<style scoped>\n",
       "    .dataframe tbody tr th:only-of-type {\n",
       "        vertical-align: middle;\n",
       "    }\n",
       "\n",
       "    .dataframe tbody tr th {\n",
       "        vertical-align: top;\n",
       "    }\n",
       "\n",
       "    .dataframe thead th {\n",
       "        text-align: right;\n",
       "    }\n",
       "</style>\n",
       "<table border=\"1\" class=\"dataframe\">\n",
       "  <thead>\n",
       "    <tr style=\"text-align: right;\">\n",
       "      <th></th>\n",
       "      <th>SN</th>\n",
       "      <th>Total Purchases</th>\n",
       "      <th>Gender</th>\n",
       "      <th>Purchases</th>\n",
       "      <th>Avg Purchase Price</th>\n",
       "    </tr>\n",
       "  </thead>\n",
       "  <tbody>\n",
       "    <tr>\n",
       "      <td>360</td>\n",
       "      <td>Lisosia93</td>\n",
       "      <td>$18.96</td>\n",
       "      <td>Male</td>\n",
       "      <td>5</td>\n",
       "      <td>$3.79</td>\n",
       "    </tr>\n",
       "    <tr>\n",
       "      <td>246</td>\n",
       "      <td>Idastidru52</td>\n",
       "      <td>$15.45</td>\n",
       "      <td>Male</td>\n",
       "      <td>4</td>\n",
       "      <td>$3.86</td>\n",
       "    </tr>\n",
       "    <tr>\n",
       "      <td>106</td>\n",
       "      <td>Chamjask73</td>\n",
       "      <td>$13.83</td>\n",
       "      <td>Female</td>\n",
       "      <td>3</td>\n",
       "      <td>$4.61</td>\n",
       "    </tr>\n",
       "    <tr>\n",
       "      <td>275</td>\n",
       "      <td>Iral74</td>\n",
       "      <td>$13.62</td>\n",
       "      <td>Male</td>\n",
       "      <td>4</td>\n",
       "      <td>$3.40</td>\n",
       "    </tr>\n",
       "    <tr>\n",
       "      <td>281</td>\n",
       "      <td>Iskadarya95</td>\n",
       "      <td>$13.10</td>\n",
       "      <td>Male</td>\n",
       "      <td>3</td>\n",
       "      <td>$4.37</td>\n",
       "    </tr>\n",
       "    <tr>\n",
       "      <td>250</td>\n",
       "      <td>Ilarin91</td>\n",
       "      <td>$12.70</td>\n",
       "      <td>Male</td>\n",
       "      <td>3</td>\n",
       "      <td>$4.23</td>\n",
       "    </tr>\n",
       "    <tr>\n",
       "      <td>228</td>\n",
       "      <td>Ialallo29</td>\n",
       "      <td>$11.84</td>\n",
       "      <td>Female</td>\n",
       "      <td>3</td>\n",
       "      <td>$3.95</td>\n",
       "    </tr>\n",
       "    <tr>\n",
       "      <td>531</td>\n",
       "      <td>Tyidaim51</td>\n",
       "      <td>$11.83</td>\n",
       "      <td>Female</td>\n",
       "      <td>3</td>\n",
       "      <td>$3.94</td>\n",
       "    </tr>\n",
       "    <tr>\n",
       "      <td>313</td>\n",
       "      <td>Lassilsala30</td>\n",
       "      <td>$11.51</td>\n",
       "      <td>Male</td>\n",
       "      <td>3</td>\n",
       "      <td>$3.84</td>\n",
       "    </tr>\n",
       "    <tr>\n",
       "      <td>88</td>\n",
       "      <td>Chadolyla44</td>\n",
       "      <td>$11.46</td>\n",
       "      <td>Male</td>\n",
       "      <td>3</td>\n",
       "      <td>$3.82</td>\n",
       "    </tr>\n",
       "    <tr>\n",
       "      <td>276</td>\n",
       "      <td>Iri67</td>\n",
       "      <td>$11.37</td>\n",
       "      <td>Male</td>\n",
       "      <td>3</td>\n",
       "      <td>$3.79</td>\n",
       "    </tr>\n",
       "    <tr>\n",
       "      <td>274</td>\n",
       "      <td>Inguron55</td>\n",
       "      <td>$11.11</td>\n",
       "      <td>Male</td>\n",
       "      <td>3</td>\n",
       "      <td>$3.70</td>\n",
       "    </tr>\n",
       "    <tr>\n",
       "      <td>475</td>\n",
       "      <td>Siallylis44</td>\n",
       "      <td>$10.37</td>\n",
       "      <td>Male</td>\n",
       "      <td>3</td>\n",
       "      <td>$3.46</td>\n",
       "    </tr>\n",
       "    <tr>\n",
       "      <td>463</td>\n",
       "      <td>Saistyphos30</td>\n",
       "      <td>$10.33</td>\n",
       "      <td>Male</td>\n",
       "      <td>3</td>\n",
       "      <td>$3.44</td>\n",
       "    </tr>\n",
       "    <tr>\n",
       "      <td>423</td>\n",
       "      <td>Phyali88</td>\n",
       "      <td>$10.30</td>\n",
       "      <td>Female</td>\n",
       "      <td>3</td>\n",
       "      <td>$3.43</td>\n",
       "    </tr>\n",
       "    <tr>\n",
       "      <td>495</td>\n",
       "      <td>Strithenu87</td>\n",
       "      <td>$10.18</td>\n",
       "      <td>Male</td>\n",
       "      <td>3</td>\n",
       "      <td>$3.39</td>\n",
       "    </tr>\n",
       "    <tr>\n",
       "      <td>348</td>\n",
       "      <td>Lisim78</td>\n",
       "      <td>$10.02</td>\n",
       "      <td>Male</td>\n",
       "      <td>3</td>\n",
       "      <td>$3.34</td>\n",
       "    </tr>\n",
       "    <tr>\n",
       "      <td>204</td>\n",
       "      <td>Haillyrgue51</td>\n",
       "      <td>$9.50</td>\n",
       "      <td>Male</td>\n",
       "      <td>3</td>\n",
       "      <td>$3.17</td>\n",
       "    </tr>\n",
       "    <tr>\n",
       "      <td>421</td>\n",
       "      <td>Phistym51</td>\n",
       "      <td>$9.50</td>\n",
       "      <td>Male</td>\n",
       "      <td>2</td>\n",
       "      <td>$4.75</td>\n",
       "    </tr>\n",
       "    <tr>\n",
       "      <td>309</td>\n",
       "      <td>Lamil79</td>\n",
       "      <td>$9.29</td>\n",
       "      <td>Male</td>\n",
       "      <td>2</td>\n",
       "      <td>$4.64</td>\n",
       "    </tr>\n",
       "  </tbody>\n",
       "</table>\n",
       "</div>"
      ],
      "text/plain": [
       "               SN Total Purchases  Gender  Purchases Avg Purchase Price\n",
       "360     Lisosia93          $18.96    Male          5              $3.79\n",
       "246   Idastidru52          $15.45    Male          4              $3.86\n",
       "106    Chamjask73          $13.83  Female          3              $4.61\n",
       "275        Iral74          $13.62    Male          4              $3.40\n",
       "281   Iskadarya95          $13.10    Male          3              $4.37\n",
       "250      Ilarin91          $12.70    Male          3              $4.23\n",
       "228     Ialallo29          $11.84  Female          3              $3.95\n",
       "531     Tyidaim51          $11.83  Female          3              $3.94\n",
       "313  Lassilsala30          $11.51    Male          3              $3.84\n",
       "88    Chadolyla44          $11.46    Male          3              $3.82\n",
       "276         Iri67          $11.37    Male          3              $3.79\n",
       "274     Inguron55          $11.11    Male          3              $3.70\n",
       "475   Siallylis44          $10.37    Male          3              $3.46\n",
       "463  Saistyphos30          $10.33    Male          3              $3.44\n",
       "423      Phyali88          $10.30  Female          3              $3.43\n",
       "495   Strithenu87          $10.18    Male          3              $3.39\n",
       "348       Lisim78          $10.02    Male          3              $3.34\n",
       "204  Haillyrgue51           $9.50    Male          3              $3.17\n",
       "421     Phistym51           $9.50    Male          2              $4.75\n",
       "309       Lamil79           $9.29    Male          2              $4.64"
      ]
     },
     "execution_count": 15,
     "metadata": {},
     "output_type": "execute_result"
    }
   ],
   "source": [
    "top_shop_df = md_df.groupby(['SN', 'Gender', 'Age']).agg(lambda x: x.unique().tolist()).reset_index()\n",
    "top_shop_df = top_shop_df[['SN', 'Price', 'Gender']]\n",
    "top_shop_df.set_index('SN')\n",
    "top_shop_df['Purchases'] = top_shop_df['Price'].apply(len)\n",
    "top_shop_df['Price'] = top_shop_df['Price'].apply(np.sum)\n",
    "top_shop_df['Avg Purchase Price'] = top_shop_df['Price']/top_shop_df['Purchases']\n",
    "top_shop_df.nlargest(columns='Avg Purchase Price', n=10)\n",
    "top_shop_df.rename(columns={'Price': 'Total Purchases'}, inplace=True)\n",
    "top_ten_play = top_shop_df.nlargest(columns='Total Purchases', n = 20)\n",
    "top_ten_play[['Total Purchases', 'Avg Purchase Price']] = top_shop_df[['Total Purchases', 'Avg Purchase Price']].applymap('${:,.2f}'.format)\n",
    "top_ten_play\n"
   ]
  },
  {
   "cell_type": "markdown",
   "metadata": {},
   "source": [
    " ## Most Popular Items"
   ]
  },
  {
   "cell_type": "code",
   "execution_count": null,
   "metadata": {
    "scrolled": true
   },
   "outputs": [],
   "source": [
    "top_item_df = md_df[['Item ID', 'Item Name', 'Price', 'Purchase ID']].groupby(['Item ID', 'Item Name']).agg(lambda x: x.unique().tolist()).reset_index().set_index('Item ID')\n",
    "top_item_df['Purchase Count'] = top_item_df['Purchase ID'].apply(len)\n",
    "top_item_df['Total Item Sales'] = top_item_df['Purchase Count']*(top_item_df['Price'].apply(np.sum))\n",
    "top_item_df['Price']\n",
    "top_item_df.nlargest(columns='Purchase Count', n=10)\n",
    "\n",
    "# * Group by Item ID and Item Name. Perform calculations to obtain purchase count, item price, and total purchase value\n"
   ]
  },
  {
   "cell_type": "markdown",
   "metadata": {},
   "source": [
    "# Most Profitable Items"
   ]
  },
  {
   "cell_type": "code",
   "execution_count": null,
   "metadata": {
    "scrolled": false
   },
   "outputs": [],
   "source": [
    "top_item_df.nlargest(columns='Total Item Sales', n=10)"
   ]
  },
  {
   "cell_type": "markdown",
   "metadata": {},
   "source": [
    "# Trends and Conclusions"
   ]
  },
  {
   "cell_type": "markdown",
   "metadata": {
    "scrolled": true
   },
   "source": [
    "### Opportunities for Growth:\n",
    "An exploratory data analysis of HOP's market place suggests several areas for further research\n",
    "         1. A summary of purchases classified by gender indicates that non-male identities are more valuable than male players.If there were ideas of how to draw more players of the high value the stakeholders could target the populations who are under represented. A referel program with in game reward offered to target players. Might help draw their friends to sign up. \n",
    "         2. The player base is heavily skewed towards those in their early 20's, but they aren't the biggest spenders. Additional in game metrics could be identified and gathered to partition these groups into finer bins.\n",
    "         3. There are a few players that have.spent significantly more than the average $4.10. These outliers have the potential to be groomed as whales with timely offers, discounts, loyalty rewards, etc... Additional research into how price sensitive the player base is could be done with data gathered a trial roll out of a whale program."
   ]
  },
  {
   "cell_type": "code",
   "execution_count": 48,
   "metadata": {},
   "outputs": [
    {
     "data": {
      "image/png": "[encoded data removed]",
      "text/plain": [
       "<Figure size 432x288 with 1 Axes>"
      ]
     },
     "metadata": {
      "needs_background": "light"
     },
     "output_type": "display_data"
    }
   ],
   "source": [
    "md_df['Age'].plot.hist(bins = 20)\n"
   ]
  },
  {
   "cell_type": "code",
   "execution_count": 50,
   "metadata": {},
   "outputs": [
    {
     "data": {
      "text/plain": [
       "<matplotlib.axes._subplots.AxesSubplot at 0x2b26bfbbc50>"
      ]
     },
     "execution_count": 50,
     "metadata": {},
     "output_type": "execute_result"
    },
    {
     "data": {
      "image/png": "[encoded data removed]",
      "text/plain": [
       "<Figure size 432x288 with 1 Axes>"
      ]
     },
     "metadata": {
      "needs_background": "light"
     },
     "output_type": "display_data"
    }
   ],
   "source": [
    "pba_df['Sales by Group Per Person'].plot.bar()"
   ]
  },
  {
   "cell_type": "code",
   "execution_count": 52,
   "metadata": {},
   "outputs": [
    {
     "data": {
      "text/html": [
       "<div>\n",
       "<style scoped>\n",
       "    .dataframe tbody tr th:only-of-type {\n",
       "        vertical-align: middle;\n",
       "    }\n",
       "\n",
       "    .dataframe tbody tr th {\n",
       "        vertical-align: top;\n",
       "    }\n",
       "\n",
       "    .dataframe thead th {\n",
       "        text-align: right;\n",
       "    }\n",
       "</style>\n",
       "<table border=\"1\" class=\"dataframe\">\n",
       "  <thead>\n",
       "    <tr style=\"text-align: right;\">\n",
       "      <th></th>\n",
       "      <th>Total Purchases</th>\n",
       "      <th>Purchases</th>\n",
       "      <th>Avg Purchase Price</th>\n",
       "    </tr>\n",
       "  </thead>\n",
       "  <tbody>\n",
       "    <tr>\n",
       "      <td>count</td>\n",
       "      <td>576.000000</td>\n",
       "      <td>576.000000</td>\n",
       "      <td>576.000000</td>\n",
       "    </tr>\n",
       "    <tr>\n",
       "      <td>mean</td>\n",
       "      <td>4.127240</td>\n",
       "      <td>1.352431</td>\n",
       "      <td>3.046374</td>\n",
       "    </tr>\n",
       "    <tr>\n",
       "      <td>std</td>\n",
       "      <td>2.398957</td>\n",
       "      <td>0.623394</td>\n",
       "      <td>1.069492</td>\n",
       "    </tr>\n",
       "    <tr>\n",
       "      <td>min</td>\n",
       "      <td>1.000000</td>\n",
       "      <td>1.000000</td>\n",
       "      <td>1.000000</td>\n",
       "    </tr>\n",
       "    <tr>\n",
       "      <td>25%</td>\n",
       "      <td>2.450000</td>\n",
       "      <td>1.000000</td>\n",
       "      <td>2.152500</td>\n",
       "    </tr>\n",
       "    <tr>\n",
       "      <td>50%</td>\n",
       "      <td>3.720000</td>\n",
       "      <td>1.000000</td>\n",
       "      <td>3.090000</td>\n",
       "    </tr>\n",
       "    <tr>\n",
       "      <td>75%</td>\n",
       "      <td>4.902500</td>\n",
       "      <td>2.000000</td>\n",
       "      <td>3.864375</td>\n",
       "    </tr>\n",
       "    <tr>\n",
       "      <td>max</td>\n",
       "      <td>18.960000</td>\n",
       "      <td>5.000000</td>\n",
       "      <td>4.990000</td>\n",
       "    </tr>\n",
       "  </tbody>\n",
       "</table>\n",
       "</div>"
      ],
      "text/plain": [
       "       Total Purchases   Purchases  Avg Purchase Price\n",
       "count       576.000000  576.000000          576.000000\n",
       "mean          4.127240    1.352431            3.046374\n",
       "std           2.398957    0.623394            1.069492\n",
       "min           1.000000    1.000000            1.000000\n",
       "25%           2.450000    1.000000            2.152500\n",
       "50%           3.720000    1.000000            3.090000\n",
       "75%           4.902500    2.000000            3.864375\n",
       "max          18.960000    5.000000            4.990000"
      ]
     },
     "execution_count": 52,
     "metadata": {},
     "output_type": "execute_result"
    }
   ],
   "source": [
    "top_shop_df.describe()"
   ]
  }
 ],
 "metadata": {
  "file_extension": ".py",
  "kernelspec": {
   "display_name": "Python 3",
   "language": "python",
   "name": "python3"
  },
  "language_info": {
   "codemirror_mode": {
    "name": "ipython",
    "version": 3
   },
   "file_extension": ".py",
   "mimetype": "text/x-python",
   "name": "python",
   "nbconvert_exporter": "python",
   "pygments_lexer": "ipython3",
   "version": "3.7.3"
  },
  "mimetype": "text/x-python",
  "name": "python",
  "npconvert_exporter": "python",
  "pygments_lexer": "ipython3",
  "version": 3
 },
 "nbformat": 4,
 "nbformat_minor": 2
}
